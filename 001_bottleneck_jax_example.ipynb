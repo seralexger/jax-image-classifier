{
 "cells": [
  {
   "cell_type": "markdown",
   "metadata": {},
   "source": [
    "## JAX and Elegy image classifier\n",
    "\n",
    "\n",
    "This is a simple example of JAX and Elegy image classifier. Here I am using transfer learning through bottleneck features. The purpose of this is the ability to use any net for featuring extraction, and then build the upper layers with JAX and Elegy, because not all famous nets are implemented in JAX."
   ]
  },
  {
   "cell_type": "code",
   "execution_count": 1,
   "metadata": {},
   "outputs": [
    {
     "name": "stderr",
     "output_type": "stream",
     "text": [
      "/Users/alejandro/opt/anaconda3/envs/jax_elegy/lib/python3.7/site-packages/jax/lib/xla_bridge.py:130: UserWarning: No GPU/TPU found, falling back to CPU.\n",
      "  warnings.warn('No GPU/TPU found, falling back to CPU.')\n"
     ]
    }
   ],
   "source": [
    "import jax\n",
    "import glob\n",
    "import numpy as np\n",
    "import jax.numpy as jnp\n",
    "\n",
    "import elegy\n",
    "import optax\n",
    "\n"
   ]
  },
  {
   "cell_type": "code",
   "execution_count": 14,
   "metadata": {},
   "outputs": [
    {
     "data": {
      "text/plain": [
       "(7, 7, 512)"
      ]
     },
     "execution_count": 14,
     "metadata": {},
     "output_type": "execute_result"
    }
   ],
   "source": [
    "class_names = ['no_damages', 'car_damage']\n",
    "bottleneck_path = 'data/features/vgg19_bottleneck.npz'\n",
    "\n",
    "features = np.load(bottleneck_path)\n",
    "features['train'].shape[1:]"
   ]
  },
  {
   "cell_type": "code",
   "execution_count": 3,
   "metadata": {},
   "outputs": [],
   "source": [
    "# I selected all the train_features except the last three,\n",
    "# because they are not included in the train_targes.\n",
    "\n",
    "train_features = features['train'][:-3]\n",
    "test_features = features['test']"
   ]
  },
  {
   "cell_type": "code",
   "execution_count": 4,
   "metadata": {},
   "outputs": [],
   "source": [
    "train_targets = np.load('data/labels/train_targets.npy')[:, 0].astype(np.int32)\n",
    "test_targets = np.load('data/labels/test_targets.npy')[:, 0].astype(np.int32)"
   ]
  },
  {
   "cell_type": "code",
   "execution_count": 5,
   "metadata": {},
   "outputs": [],
   "source": [
    "# Model architecture\n",
    "\n",
    "class ModelArch(elegy.Module):\n",
    "\n",
    "    def call(self, x: jnp.ndarray) -> jnp.ndarray:\n",
    "        GAP = lambda x: jnp.mean(x, axis=(1, 2))\n",
    "        x = elegy.module.to_module(GAP)(name=\"global_average_pooling\")(x)\n",
    "        x = elegy.nn.Dropout(0.3)(x)\n",
    "        x = elegy.nn.Linear(2, dtype=jnp.float32)(x)\n",
    "        return x"
   ]
  },
  {
   "cell_type": "code",
   "execution_count": 6,
   "metadata": {},
   "outputs": [],
   "source": [
    "# Here you can play with the different loss function, optimizers....\n",
    "\n",
    "model = elegy.Model(\n",
    "    module=ModelArch(),\n",
    "    loss=[\n",
    "        elegy.losses.SparseCategoricalCrossentropy(from_logits=True),\n",
    "        elegy.regularizers.GlobalL2(l=1e-5),\n",
    "    ],\n",
    "    metrics=elegy.metrics.SparseCategoricalAccuracy(),\n",
    "    optimizer=optax.rmsprop(1e-3),\n",
    ")"
   ]
  },
  {
   "cell_type": "code",
   "execution_count": 7,
   "metadata": {},
   "outputs": [
    {
     "name": "stdout",
     "output_type": "stream",
     "text": [
      "\n",
      "╒═════════════════════════════════════╤═════════════════════════╤═════════════════╤═════════════════╕\n",
      "│ Layer                               │ Outputs Shape           │ Trainable       │   Non-trainable │\n",
      "│                                     │                         │ Parameters      │      Parameters │\n",
      "╞═════════════════════════════════════╪═════════════════════════╪═════════════════╪═════════════════╡\n",
      "│ Inputs                              │ (1, 7, 7, 512)  float32 │ 0               │               0 │\n",
      "├─────────────────────────────────────┼─────────────────────────┼─────────────────┼─────────────────┤\n",
      "│ global_average_pooling  (<lambda>)  │ (1, 512)        float32 │ 0               │               0 │\n",
      "├─────────────────────────────────────┼─────────────────────────┼─────────────────┼─────────────────┤\n",
      "│ dropout                 (Dropout)   │ (1, 512)        float32 │ 0               │               0 │\n",
      "├─────────────────────────────────────┼─────────────────────────┼─────────────────┼─────────────────┤\n",
      "│ linear                  (Linear)    │ (1, 2)          float32 │ 1,026    4.1 KB │               0 │\n",
      "├─────────────────────────────────────┼─────────────────────────┼─────────────────┼─────────────────┤\n",
      "│ Outputs                 (ModelArch) │ (1, 2)          float32 │ 0               │               0 │\n",
      "╘═════════════════════════════════════╧═════════════════════════╧═════════════════╧═════════════════╛\n",
      "Total Parameters:          1,026  4.1 KB\n",
      "Trainable Parameters:      1,026  4.1 KB\n",
      "Non-trainable Parameters:  0\n",
      "\n"
     ]
    }
   ],
   "source": [
    "model.summary(train_features[:1])"
   ]
  },
  {
   "cell_type": "code",
   "execution_count": 8,
   "metadata": {
    "scrolled": false
   },
   "outputs": [
    {
     "name": "stdout",
     "output_type": "stream",
     "text": [
      "Epoch 1/8\n",
      "58/58 [==============================] - 1s 20ms/step - l2_regularization_loss: 1.6101e-05 - loss: 1.0211 - sparse_categorical_accuracy: 0.7408 - sparse_categorical_crossentropy_loss: 1.0211\n",
      "Epoch 2/8\n",
      "58/58 [==============================] - 0s 2ms/step - l2_regularization_loss: 1.5662e-05 - loss: 0.5808 - sparse_categorical_accuracy: 0.8283 - sparse_categorical_crossentropy_loss: 0.5808\n",
      "Epoch 3/8\n",
      "58/58 [==============================] - ETA: 0s - l2_regularization_loss: 1.5258e-05 - loss: 0.5445 - sparse_categorical_accuracy: 0.8393 - sparse_categorical_crossentropy_loss: 0.544 - 0s 2ms/step - l2_regularization_loss: 1.5226e-05 - loss: 0.5109 - sparse_categorical_accuracy: 0.8495 - sparse_categorical_crossentropy_loss: 0.5109\n",
      "Epoch 4/8\n",
      "58/58 [==============================] - 0s 2ms/step - l2_regularization_loss: 1.4929e-05 - loss: 0.4080 - sparse_categorical_accuracy: 0.8630 - sparse_categorical_crossentropy_loss: 0.4079\n",
      "Epoch 5/8\n",
      "58/58 [==============================] - 0s 2ms/step - l2_regularization_loss: 1.4680e-05 - loss: 0.3841 - sparse_categorical_accuracy: 0.8674 - sparse_categorical_crossentropy_loss: 0.3841\n",
      "Epoch 6/8\n",
      "58/58 [==============================] - 0s 2ms/step - l2_regularization_loss: 1.4545e-05 - loss: 0.3287 - sparse_categorical_accuracy: 0.8886 - sparse_categorical_crossentropy_loss: 0.3287\n",
      "Epoch 7/8\n",
      "58/58 [==============================] - 0s 2ms/step - l2_regularization_loss: 1.4529e-05 - loss: 0.3250 - sparse_categorical_accuracy: 0.8891 - sparse_categorical_crossentropy_loss: 0.3250\n",
      "Epoch 8/8\n",
      "58/58 [==============================] - 0s 2ms/step - l2_regularization_loss: 1.4589e-05 - loss: 0.3036 - sparse_categorical_accuracy: 0.8902 - sparse_categorical_crossentropy_loss: 0.3036\n"
     ]
    },
    {
     "data": {
      "text/plain": [
       "<elegy.callbacks.history.History at 0x7f9c616b8bd0>"
      ]
     },
     "execution_count": 8,
     "metadata": {},
     "output_type": "execute_result"
    }
   ],
   "source": [
    "# Here you can play with the different arguments for fit, changing, batch size, including validation data,\n",
    "# adding callbacks....\n",
    "\n",
    "model.fit(train_features, train_targets, epochs=8)"
   ]
  },
  {
   "cell_type": "code",
   "execution_count": 9,
   "metadata": {},
   "outputs": [],
   "source": [
    "predictions = np.argmax(model.predict(test_features), axis=1)"
   ]
  },
  {
   "cell_type": "code",
   "execution_count": 13,
   "metadata": {},
   "outputs": [
    {
     "data": {
      "image/png": "[encoded data removed]",
      "text/plain": [
       "<Figure size 396x288 with 2 Axes>"
      ]
     },
     "metadata": {
      "needs_background": "light"
     },
     "output_type": "display_data"
    }
   ],
   "source": [
    "%matplotlib inline\n",
    "import matplotlib.pyplot as plt\n",
    "import pandas as pd\n",
    "import seaborn as sns\n",
    "from sklearn.metrics import accuracy_score, confusion_matrix, precision_recall_fscore_support\n",
    "\n",
    "cm = confusion_matrix( test_targets, predictions) \n",
    "\n",
    "cm_df = pd.DataFrame(cm,\n",
    "                     index = ['no_damages', 'car_damage'], \n",
    "                     columns = ['no_damages', 'car_damage'])\n",
    "\n",
    "plt.figure(figsize=(5.5,4))\n",
    "sns.heatmap(cm_df, cmap=\"coolwarm_r\",annot=True,linewidths=0.5)\n",
    "plt.title('Model \\nAccuracy:{0:.3f}'.format(accuracy_score(test_targets,predictions)))\n",
    "plt.ylabel('True label')\n",
    "plt.xlabel('Predicted label')\n",
    "plt.show()"
   ]
  },
  {
   "cell_type": "code",
   "execution_count": 19,
   "metadata": {},
   "outputs": [],
   "source": [
    "from keras.preprocessing import image\n",
    "from features_extractor import extract_VGG19\n",
    "\n",
    "\n",
    "def path_to_tensor(img_path):\n",
    "\n",
    "    img = image.load_img(img_path, target_size=(224, 224))\n",
    "    \n",
    "    x = image.img_to_array(img)\n",
    "\n",
    "    return np.expand_dims(x, axis=0)\n",
    "\n",
    "\n",
    "def make_file_prediction(img_path = 'data/sample_images/car_2.jpg'):\n",
    "\n",
    "    img_tensor = path_to_tensor(img_path)\n",
    "    img_tensor_features = extract_VGG19(img_tensor)\n",
    "    \n",
    "    prediction = model.predict(img_tensor_features)\n",
    "\n",
    "    class_predicted = class_names[np.argmax(prediction, axis=1)[0]]\n",
    "    \n",
    "    return class_predicted"
   ]
  },
  {
   "cell_type": "code",
   "execution_count": 25,
   "metadata": {},
   "outputs": [
    {
     "name": "stdout",
     "output_type": "stream",
     "text": [
      "car_1.jpg\n",
      "no_damages\n",
      "-----------\n",
      "\n",
      "car_damage_1.jpg\n",
      "car_damage\n",
      "-----------\n",
      "\n",
      "car_2.jpg\n",
      "no_damages\n",
      "-----------\n",
      "\n",
      "car_damage_2.jpg\n",
      "car_damage\n",
      "-----------\n",
      "\n"
     ]
    }
   ],
   "source": [
    "for file_path in glob.glob('data/sample_images/*.jpg'):\n",
    "    print(file_path.split('/')[-1])\n",
    "    print(make_file_prediction(file_path))\n",
    "    print('-----------')\n",
    "    print()"
   ]
  },
  {
   "cell_type": "code",
   "execution_count": null,
   "metadata": {},
   "outputs": [],
   "source": []
  }
 ],
 "metadata": {
  "kernelspec": {
   "display_name": "jax_eleg",
   "language": "python",
   "name": "jax_eleg"
  },
  "language_info": {
   "codemirror_mode": {
    "name": "ipython",
    "version": 3
   },
   "file_extension": ".py",
   "mimetype": "text/x-python",
   "name": "python",
   "nbconvert_exporter": "python",
   "pygments_lexer": "ipython3",
   "version": "3.7.9"
  }
 },
 "nbformat": 4,
 "nbformat_minor": 4
}
